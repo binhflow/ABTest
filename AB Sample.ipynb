{
 "cells": [
  {
   "cell_type": "code",
   "execution_count": 1,
   "metadata": {},
   "outputs": [],
   "source": [
    "import numpy as np\n",
    "import pandas as pd\n",
    "from tqdm import tqdm\n",
    "import matplotlib.pyplot as plt"
   ]
  },
  {
   "cell_type": "markdown",
   "metadata": {},
   "source": [
    "### Simple Random Sampling with Probabilities"
   ]
  },
  {
   "cell_type": "code",
   "execution_count": 2,
   "metadata": {},
   "outputs": [],
   "source": [
    "# Global Variable\n",
    "user_samples = 70000  # Number of users in test \n",
    "num_groups = 5  # Number of groups\n",
    "seed = 0  \n",
    "num_weeks = 4  # Number of weeks (maximum duration of test)\n",
    "num_products = 2  # Number of notifications pushed per week\n",
    "# Set up a dictionary contains probabilities for each group around baseline conversion rate(0.02)\n",
    "prob_dict = {} \n",
    "prob_dict['a1'] = [0.02, 0.05, 0.1]  # Conversion rate of group A1 by remote, checkout, general respectively\n",
    "prob_dict['a2'] = [0.025, 0.05, 0.1]\n",
    "prob_dict['a3'] = [0.03, 0.055, 0.12]\n",
    "prob_dict['a4'] = [0.02, 0.05, 0.1]\n",
    "prob_dict['a5'] = [0.019, 0.05, 0.1]"
   ]
  },
  {
   "cell_type": "code",
   "execution_count": 3,
   "metadata": {},
   "outputs": [],
   "source": [
    "prob_df = pd.DataFrame(prob_dict)"
   ]
  },
  {
   "cell_type": "code",
   "execution_count": 4,
   "metadata": {},
   "outputs": [],
   "source": [
    "prob_df['metrics'] = ['Remote','Checkout','General']"
   ]
  },
  {
   "cell_type": "code",
   "execution_count": 5,
   "metadata": {},
   "outputs": [
    {
     "name": "stdout",
     "output_type": "stream",
     "text": [
      "Probabilities DataFrame\n",
      "\n",
      "            a1     a2     a3    a4     a5\n",
      "metrics                                  \n",
      "Remote    0.02  0.025  0.030  0.02  0.019\n",
      "Checkout  0.05  0.050  0.055  0.05  0.050\n",
      "General   0.10  0.100  0.120  0.10  0.100\n"
     ]
    }
   ],
   "source": [
    "print('Probabilities DataFrame')\n",
    "print('')\n",
    "print(prob_df.set_index('metrics'))"
   ]
  },
  {
   "cell_type": "code",
   "execution_count": 6,
   "metadata": {},
   "outputs": [],
   "source": [
    "# Create DataFrame\n",
    "df = pd.DataFrame(columns=['user_id'],data=np.arange(1,user_samples+1))"
   ]
  },
  {
   "cell_type": "code",
   "execution_count": 7,
   "metadata": {},
   "outputs": [],
   "source": [
    "def assign_group(x):\n",
    "    \"\"\"Assign group to each user id\"\"\"\n",
    "    for i in range(1,num_groups+1):\n",
    "        if x>=i and x<=(user_samples/num_groups)*i:\n",
    "            return 'a' + str(i)"
   ]
  },
  {
   "cell_type": "code",
   "execution_count": 8,
   "metadata": {},
   "outputs": [],
   "source": [
    "df['group'] = df['user_id'].apply(assign_group)"
   ]
  },
  {
   "cell_type": "code",
   "execution_count": 9,
   "metadata": {},
   "outputs": [],
   "source": [
    "# Set up Algorithm by group\n",
    "df['alg'] = np.where(df['group'].isin(['a1','a2','a4']),1,2)"
   ]
  },
  {
   "cell_type": "code",
   "execution_count": 10,
   "metadata": {},
   "outputs": [],
   "source": [
    "# Set up Threshold by group\n",
    "df['threshold'] = np.where(df['group'].isin(['a1','a2','a3']),0.5,0.76)"
   ]
  },
  {
   "cell_type": "code",
   "execution_count": 11,
   "metadata": {},
   "outputs": [],
   "source": [
    "# Set up Notifications by group\n",
    "df['noti'] = np.where(df['group'].isin(['a1']),'No','Yes')"
   ]
  },
  {
   "cell_type": "code",
   "execution_count": 12,
   "metadata": {},
   "outputs": [],
   "source": [
    "# Random sample user type\n",
    "df['type'] = np.random.choice(['New','Last3','Active'],size=(len(df),), p=[0.6, 0.2, 0.2])"
   ]
  },
  {
   "cell_type": "code",
   "execution_count": 13,
   "metadata": {},
   "outputs": [],
   "source": [
    "# Extend dataframe by number of weeks and products/notifications\n",
    "df_mp = df.append([df]*(num_products*num_weeks-1), ignore_index=True)"
   ]
  },
  {
   "cell_type": "code",
   "execution_count": 14,
   "metadata": {},
   "outputs": [],
   "source": [
    "df_mp = df_mp.sort_values(by='user_id').reset_index(drop=True)"
   ]
  },
  {
   "cell_type": "code",
   "execution_count": 15,
   "metadata": {},
   "outputs": [],
   "source": [
    "df_mp['product_no'] = [i+1 for i in range(num_products)]*num_weeks*user_samples"
   ]
  },
  {
   "cell_type": "code",
   "execution_count": 16,
   "metadata": {},
   "outputs": [],
   "source": [
    "df_mp['week'] = sorted([i+1 for i in range(num_weeks)]*2)*user_samples"
   ]
  },
  {
   "cell_type": "code",
   "execution_count": 17,
   "metadata": {},
   "outputs": [],
   "source": [
    "# Random sample results of remote/checkout/general by probabilities dataframe above\n",
    "remote = []\n",
    "checkout = [] \n",
    "general = []\n",
    "for i in df_mp.group.unique():\n",
    "    remote_ = np.random.choice([0, 1], size=(int(len(df_mp)/num_groups),), p=[1-prob_dict[i][0], prob_dict[i][0]])\n",
    "    remote = np.append(remote,remote_)\n",
    "    checkout_ = np.random.choice([0, 1], size=(int(len(df_mp)/num_groups),), p=[1-prob_dict[i][1], prob_dict[i][1]])\n",
    "    checkout = np.append(checkout,checkout_)\n",
    "    general_ = np.random.choice([0, 1], size=(int(len(df_mp)/num_groups),), p=[1-prob_dict[i][2], prob_dict[i][2]])\n",
    "    general = np.append(general,general_)"
   ]
  },
  {
   "cell_type": "code",
   "execution_count": 18,
   "metadata": {},
   "outputs": [],
   "source": [
    "df_mp['remote'] = remote\n",
    "df_mp['checkout'] = checkout\n",
    "df_mp['general'] = general\n",
    "df_mp['general'] = np.where((df_mp['remote']==1)|(df_mp['checkout']==1),1,df_mp['general'])"
   ]
  },
  {
   "cell_type": "code",
   "execution_count": 19,
   "metadata": {},
   "outputs": [
    {
     "data": {
      "text/html": [
       "<div>\n",
       "<style scoped>\n",
       "    .dataframe tbody tr th:only-of-type {\n",
       "        vertical-align: middle;\n",
       "    }\n",
       "\n",
       "    .dataframe tbody tr th {\n",
       "        vertical-align: top;\n",
       "    }\n",
       "\n",
       "    .dataframe thead th {\n",
       "        text-align: right;\n",
       "    }\n",
       "</style>\n",
       "<table border=\"1\" class=\"dataframe\">\n",
       "  <thead>\n",
       "    <tr style=\"text-align: right;\">\n",
       "      <th></th>\n",
       "      <th>user_id</th>\n",
       "      <th>group</th>\n",
       "      <th>alg</th>\n",
       "      <th>threshold</th>\n",
       "      <th>noti</th>\n",
       "      <th>type</th>\n",
       "      <th>product_no</th>\n",
       "      <th>week</th>\n",
       "      <th>remote</th>\n",
       "      <th>checkout</th>\n",
       "      <th>general</th>\n",
       "    </tr>\n",
       "  </thead>\n",
       "  <tbody>\n",
       "    <tr>\n",
       "      <td>0</td>\n",
       "      <td>1</td>\n",
       "      <td>a1</td>\n",
       "      <td>1</td>\n",
       "      <td>0.5</td>\n",
       "      <td>No</td>\n",
       "      <td>New</td>\n",
       "      <td>1</td>\n",
       "      <td>1</td>\n",
       "      <td>1.0</td>\n",
       "      <td>0.0</td>\n",
       "      <td>1.0</td>\n",
       "    </tr>\n",
       "    <tr>\n",
       "      <td>1</td>\n",
       "      <td>1</td>\n",
       "      <td>a1</td>\n",
       "      <td>1</td>\n",
       "      <td>0.5</td>\n",
       "      <td>No</td>\n",
       "      <td>New</td>\n",
       "      <td>2</td>\n",
       "      <td>1</td>\n",
       "      <td>0.0</td>\n",
       "      <td>0.0</td>\n",
       "      <td>0.0</td>\n",
       "    </tr>\n",
       "    <tr>\n",
       "      <td>2</td>\n",
       "      <td>1</td>\n",
       "      <td>a1</td>\n",
       "      <td>1</td>\n",
       "      <td>0.5</td>\n",
       "      <td>No</td>\n",
       "      <td>New</td>\n",
       "      <td>1</td>\n",
       "      <td>2</td>\n",
       "      <td>0.0</td>\n",
       "      <td>0.0</td>\n",
       "      <td>0.0</td>\n",
       "    </tr>\n",
       "    <tr>\n",
       "      <td>3</td>\n",
       "      <td>1</td>\n",
       "      <td>a1</td>\n",
       "      <td>1</td>\n",
       "      <td>0.5</td>\n",
       "      <td>No</td>\n",
       "      <td>New</td>\n",
       "      <td>2</td>\n",
       "      <td>2</td>\n",
       "      <td>1.0</td>\n",
       "      <td>0.0</td>\n",
       "      <td>1.0</td>\n",
       "    </tr>\n",
       "    <tr>\n",
       "      <td>4</td>\n",
       "      <td>1</td>\n",
       "      <td>a1</td>\n",
       "      <td>1</td>\n",
       "      <td>0.5</td>\n",
       "      <td>No</td>\n",
       "      <td>New</td>\n",
       "      <td>1</td>\n",
       "      <td>3</td>\n",
       "      <td>0.0</td>\n",
       "      <td>0.0</td>\n",
       "      <td>0.0</td>\n",
       "    </tr>\n",
       "    <tr>\n",
       "      <td>5</td>\n",
       "      <td>1</td>\n",
       "      <td>a1</td>\n",
       "      <td>1</td>\n",
       "      <td>0.5</td>\n",
       "      <td>No</td>\n",
       "      <td>New</td>\n",
       "      <td>2</td>\n",
       "      <td>3</td>\n",
       "      <td>0.0</td>\n",
       "      <td>0.0</td>\n",
       "      <td>0.0</td>\n",
       "    </tr>\n",
       "    <tr>\n",
       "      <td>6</td>\n",
       "      <td>1</td>\n",
       "      <td>a1</td>\n",
       "      <td>1</td>\n",
       "      <td>0.5</td>\n",
       "      <td>No</td>\n",
       "      <td>New</td>\n",
       "      <td>1</td>\n",
       "      <td>4</td>\n",
       "      <td>0.0</td>\n",
       "      <td>1.0</td>\n",
       "      <td>1.0</td>\n",
       "    </tr>\n",
       "    <tr>\n",
       "      <td>7</td>\n",
       "      <td>1</td>\n",
       "      <td>a1</td>\n",
       "      <td>1</td>\n",
       "      <td>0.5</td>\n",
       "      <td>No</td>\n",
       "      <td>New</td>\n",
       "      <td>2</td>\n",
       "      <td>4</td>\n",
       "      <td>0.0</td>\n",
       "      <td>0.0</td>\n",
       "      <td>0.0</td>\n",
       "    </tr>\n",
       "    <tr>\n",
       "      <td>8</td>\n",
       "      <td>2</td>\n",
       "      <td>a1</td>\n",
       "      <td>1</td>\n",
       "      <td>0.5</td>\n",
       "      <td>No</td>\n",
       "      <td>New</td>\n",
       "      <td>1</td>\n",
       "      <td>1</td>\n",
       "      <td>0.0</td>\n",
       "      <td>0.0</td>\n",
       "      <td>0.0</td>\n",
       "    </tr>\n",
       "    <tr>\n",
       "      <td>9</td>\n",
       "      <td>2</td>\n",
       "      <td>a1</td>\n",
       "      <td>1</td>\n",
       "      <td>0.5</td>\n",
       "      <td>No</td>\n",
       "      <td>New</td>\n",
       "      <td>2</td>\n",
       "      <td>1</td>\n",
       "      <td>0.0</td>\n",
       "      <td>0.0</td>\n",
       "      <td>0.0</td>\n",
       "    </tr>\n",
       "  </tbody>\n",
       "</table>\n",
       "</div>"
      ],
      "text/plain": [
       "   user_id group  alg  threshold noti type  product_no  week  remote  \\\n",
       "0        1    a1    1        0.5   No  New           1     1     1.0   \n",
       "1        1    a1    1        0.5   No  New           2     1     0.0   \n",
       "2        1    a1    1        0.5   No  New           1     2     0.0   \n",
       "3        1    a1    1        0.5   No  New           2     2     1.0   \n",
       "4        1    a1    1        0.5   No  New           1     3     0.0   \n",
       "5        1    a1    1        0.5   No  New           2     3     0.0   \n",
       "6        1    a1    1        0.5   No  New           1     4     0.0   \n",
       "7        1    a1    1        0.5   No  New           2     4     0.0   \n",
       "8        2    a1    1        0.5   No  New           1     1     0.0   \n",
       "9        2    a1    1        0.5   No  New           2     1     0.0   \n",
       "\n",
       "   checkout  general  \n",
       "0       0.0      1.0  \n",
       "1       0.0      0.0  \n",
       "2       0.0      0.0  \n",
       "3       0.0      1.0  \n",
       "4       0.0      0.0  \n",
       "5       0.0      0.0  \n",
       "6       1.0      1.0  \n",
       "7       0.0      0.0  \n",
       "8       0.0      0.0  \n",
       "9       0.0      0.0  "
      ]
     },
     "execution_count": 19,
     "metadata": {},
     "output_type": "execute_result"
    }
   ],
   "source": [
    "# Final table for AB Test Conversion of 2 recommended products\n",
    "df_mp.head(10)"
   ]
  },
  {
   "cell_type": "code",
   "execution_count": 20,
   "metadata": {},
   "outputs": [],
   "source": [
    "# Sampling sales\n",
    "df['sales_remote'] = np.random.randint(10, size = len(df))\n",
    "df['sales_checkout'] = np.random.randint(20, size = len(df))\n",
    "df['sales_general'] = np.random.randint(100, size = len(df))"
   ]
  },
  {
   "cell_type": "code",
   "execution_count": 21,
   "metadata": {},
   "outputs": [],
   "source": [
    "# Sampling Scan and Go usage\n",
    "df['sng_use'] = np.random.choice([0, 1], size=(int(len(df),)), p=[0.4, 0.6])"
   ]
  },
  {
   "cell_type": "code",
   "execution_count": 22,
   "metadata": {},
   "outputs": [
    {
     "data": {
      "text/html": [
       "<div>\n",
       "<style scoped>\n",
       "    .dataframe tbody tr th:only-of-type {\n",
       "        vertical-align: middle;\n",
       "    }\n",
       "\n",
       "    .dataframe tbody tr th {\n",
       "        vertical-align: top;\n",
       "    }\n",
       "\n",
       "    .dataframe thead th {\n",
       "        text-align: right;\n",
       "    }\n",
       "</style>\n",
       "<table border=\"1\" class=\"dataframe\">\n",
       "  <thead>\n",
       "    <tr style=\"text-align: right;\">\n",
       "      <th></th>\n",
       "      <th>user_id</th>\n",
       "      <th>group</th>\n",
       "      <th>alg</th>\n",
       "      <th>threshold</th>\n",
       "      <th>noti</th>\n",
       "      <th>type</th>\n",
       "      <th>sales_remote</th>\n",
       "      <th>sales_checkout</th>\n",
       "      <th>sales_general</th>\n",
       "      <th>sng_use</th>\n",
       "    </tr>\n",
       "  </thead>\n",
       "  <tbody>\n",
       "    <tr>\n",
       "      <td>0</td>\n",
       "      <td>1</td>\n",
       "      <td>a1</td>\n",
       "      <td>1</td>\n",
       "      <td>0.5</td>\n",
       "      <td>No</td>\n",
       "      <td>New</td>\n",
       "      <td>4</td>\n",
       "      <td>19</td>\n",
       "      <td>24</td>\n",
       "      <td>0</td>\n",
       "    </tr>\n",
       "    <tr>\n",
       "      <td>1</td>\n",
       "      <td>2</td>\n",
       "      <td>a1</td>\n",
       "      <td>1</td>\n",
       "      <td>0.5</td>\n",
       "      <td>No</td>\n",
       "      <td>New</td>\n",
       "      <td>6</td>\n",
       "      <td>0</td>\n",
       "      <td>53</td>\n",
       "      <td>1</td>\n",
       "    </tr>\n",
       "    <tr>\n",
       "      <td>2</td>\n",
       "      <td>3</td>\n",
       "      <td>a1</td>\n",
       "      <td>1</td>\n",
       "      <td>0.5</td>\n",
       "      <td>No</td>\n",
       "      <td>New</td>\n",
       "      <td>5</td>\n",
       "      <td>0</td>\n",
       "      <td>53</td>\n",
       "      <td>1</td>\n",
       "    </tr>\n",
       "    <tr>\n",
       "      <td>3</td>\n",
       "      <td>4</td>\n",
       "      <td>a1</td>\n",
       "      <td>1</td>\n",
       "      <td>0.5</td>\n",
       "      <td>No</td>\n",
       "      <td>New</td>\n",
       "      <td>1</td>\n",
       "      <td>4</td>\n",
       "      <td>10</td>\n",
       "      <td>1</td>\n",
       "    </tr>\n",
       "    <tr>\n",
       "      <td>4</td>\n",
       "      <td>5</td>\n",
       "      <td>a1</td>\n",
       "      <td>1</td>\n",
       "      <td>0.5</td>\n",
       "      <td>No</td>\n",
       "      <td>Last3</td>\n",
       "      <td>4</td>\n",
       "      <td>5</td>\n",
       "      <td>34</td>\n",
       "      <td>1</td>\n",
       "    </tr>\n",
       "  </tbody>\n",
       "</table>\n",
       "</div>"
      ],
      "text/plain": [
       "   user_id group  alg  threshold noti   type  sales_remote  sales_checkout  \\\n",
       "0        1    a1    1        0.5   No    New             4              19   \n",
       "1        2    a1    1        0.5   No    New             6               0   \n",
       "2        3    a1    1        0.5   No    New             5               0   \n",
       "3        4    a1    1        0.5   No    New             1               4   \n",
       "4        5    a1    1        0.5   No  Last3             4               5   \n",
       "\n",
       "   sales_general  sng_use  \n",
       "0             24        0  \n",
       "1             53        1  \n",
       "2             53        1  \n",
       "3             10        1  \n",
       "4             34        1  "
      ]
     },
     "execution_count": 22,
     "metadata": {},
     "output_type": "execute_result"
    }
   ],
   "source": [
    "# Final table for AB Test Conversion of New Users and Total sales\n",
    "df.head(5)"
   ]
  },
  {
   "cell_type": "markdown",
   "metadata": {},
   "source": [
    "### Permutation Testing"
   ]
  },
  {
   "cell_type": "markdown",
   "metadata": {},
   "source": [
    "The reason why I chose permutation test is on README file.  \n",
    "\n",
    "**Test:** \n",
    "- H0: Conversion rate of treatment = conversion rate of controlled\n",
    "- H1: Conversion rate of treatment > conversion rate of controlled\n",
    "\n",
    "**Permutation test guideline:**  \n",
    "**0.** Calculate difference of conversion rates of control and treatment group, regard as observation  \n",
    "**1.** Concatenate control and treatment group into 1 big group, act like two groups are one under null hypothesis  \n",
    "**2.** Shuffle and pick a new control group and a new treatment group \n",
    "**3.** Calculate difference of conversion rates  \n",
    "**4.** Repeat step 2 and 3 10000 times   \n",
    "**5.** Under central limit theorem, now we have a normal distribution of conversion rate/mean difference with a sample size of 10000  \n",
    "**6.** Count number of times permutation replicates (conversion rate difference) that is bigger than observation over 10000 replicates, the fraction is p-value   \n",
    "**7.** If p-value < 0.05 (standard alpha), conclude rejecting null hypothesis, else accept  "
   ]
  },
  {
   "cell_type": "code",
   "execution_count": 23,
   "metadata": {},
   "outputs": [],
   "source": [
    "def permutation_sample(ctrl, tm):\n",
    "    \"\"\"Resample control and treatment group\"\"\"\n",
    "    data = np.concatenate((ctrl,tm))\n",
    "    permuted_data = np.random.permutation(data)\n",
    "    perm_sample_1 = permuted_data[:len(ctrl)]\n",
    "    perm_sample_2 = permuted_data[len(ctrl):]\n",
    "    return perm_sample_1, perm_sample_2"
   ]
  },
  {
   "cell_type": "code",
   "execution_count": 24,
   "metadata": {},
   "outputs": [],
   "source": [
    "def diff_frac(ctrl, tm):\n",
    "    \"\"\"Calculate difference of conversion rates\"\"\"\n",
    "    frac_c = np.sum(ctrl)/len(ctrl)\n",
    "    frac_t = np.sum(tm)/len(tm)\n",
    "    return frac_t - frac_c"
   ]
  },
  {
   "cell_type": "code",
   "execution_count": 25,
   "metadata": {},
   "outputs": [],
   "source": [
    "def diff_mean(ctrl, tm):\n",
    "    \"\"\"Calculate difference of means\"\"\"\n",
    "    mean_c = np.mean(ctrl)\n",
    "    mean_t = np.mean(tm) \n",
    "    return mean_t - mean_c"
   ]
  },
  {
   "cell_type": "code",
   "execution_count": 26,
   "metadata": {},
   "outputs": [],
   "source": [
    "def draw_perm_reps(ctrl, tm, size, func):\n",
    "    \"\"\"Resample 10000 times, calculate difference and record in an array\"\"\"\n",
    "    perm_replicates = np.empty(size)\n",
    "    for i in tqdm(range(size)):\n",
    "        perm_sample_1, perm_sample_2 = permutation_sample(ctrl, tm)\n",
    "        perm_replicates[i] = func(perm_sample_1, perm_sample_2)\n",
    "    return perm_replicates"
   ]
  },
  {
   "cell_type": "code",
   "execution_count": 27,
   "metadata": {},
   "outputs": [],
   "source": [
    "def test_result(ctrl, tm, size, func):\n",
    "    \"\"\"Caculate p value and return test results\"\"\"\n",
    "    dict_ = {}\n",
    "    perm_replicates = draw_perm_reps(ctrl, tm, size, func)\n",
    "    conversion_t = np.sum(tm)\n",
    "    sample_t = len(tm)\n",
    "    obs = func(ctrl, tm)\n",
    "    change = func(ctrl, tm)/(np.sum(ctrl)/len(ctrl))\n",
    "    p_value = float(np.sum(perm_replicates>=obs)/len(perm_replicates))\n",
    "    dict_['Conversions'] = str(int(conversion_t))+'/'+str(sample_t)\n",
    "    dict_['Difference'] = str(round(obs,4))\n",
    "    dict_['Change Variation'] = str(round(change*100,2)) + '%'\n",
    "    dict_['P Value'] = round(p_value,2)\n",
    "    return dict_"
   ]
  },
  {
   "cell_type": "code",
   "execution_count": 28,
   "metadata": {},
   "outputs": [],
   "source": [
    "def all_results(df, target, size, func):\n",
    "    \"\"\"This function is to avoid repetitions, return test result for every group\"\"\"\n",
    "    c = df[(df['group']=='a1')&(df['week']==1)][target].values\n",
    "    list_results = []\n",
    "    for i in df.group.unique():\n",
    "        t = df[(df['group']==i)&(df['week']==1)][target].values\n",
    "        t_result = test_result(c,t,size,func)\n",
    "        list_results.append(t_result)\n",
    "    dframe = pd.DataFrame(list_results)\n",
    "    dframe['Name'] = ['Controlled','Treatment 1','Treatment 2','Treatment 3','Treatment 4']\n",
    "    dframe = dframe.set_index('Name')\n",
    "    return dframe"
   ]
  },
  {
   "cell_type": "code",
   "execution_count": 29,
   "metadata": {},
   "outputs": [],
   "source": [
    "def all_results_2(df, target, size, func):\n",
    "    \"\"\"Like all_results function but modified for different dataframe\"\"\"\n",
    "    c = df[(df['group']=='a1')][target].values\n",
    "    list_results = []\n",
    "    for i in df.group.unique():\n",
    "        t = df[(df['group']==i)][target].values\n",
    "        t_result = test_result(c,t,size,func)\n",
    "        if func == diff_mean:\n",
    "            del t_result['Conversions']\n",
    "        list_results.append(t_result)\n",
    "    dframe = pd.DataFrame(list_results)\n",
    "    dframe['Name'] = ['Controlled','Treatment 1','Treatment 2','Treatment 3','Treatment 4']\n",
    "    dframe = dframe.set_index('Name')\n",
    "    return dframe    "
   ]
  },
  {
   "cell_type": "code",
   "execution_count": null,
   "metadata": {},
   "outputs": [
    {
     "name": "stderr",
     "output_type": "stream",
     "text": [
      "100%|██████████| 10000/10000 [00:09<00:00, 1081.89it/s]\n",
      "100%|██████████| 10000/10000 [00:09<00:00, 1084.92it/s]\n",
      "100%|██████████| 10000/10000 [00:09<00:00, 1098.26it/s]\n",
      "100%|██████████| 10000/10000 [00:09<00:00, 1110.07it/s]\n",
      "100%|██████████| 10000/10000 [00:08<00:00, 1126.74it/s]\n",
      "100%|██████████| 10000/10000 [00:08<00:00, 1116.68it/s]\n",
      " 91%|█████████ | 9111/10000 [00:08<00:00, 1120.28it/s]"
     ]
    }
   ],
   "source": [
    "df_rm = all_results(df_mp, 'remote', 10000, diff_frac)\n",
    "df_ck = all_results(df_mp, 'checkout', 10000, diff_frac)\n",
    "df_ge = all_results(df_mp, 'general', 10000, diff_frac)"
   ]
  },
  {
   "cell_type": "code",
   "execution_count": null,
   "metadata": {},
   "outputs": [],
   "source": [
    "print('REMOTE SHOPPING')\n",
    "print('')\n",
    "print(df_rm)\n",
    "print('')\n",
    "print('=============================================================')\n",
    "print('')\n",
    "print('FAST CHECKOUT')\n",
    "print('')\n",
    "print(df_ck)\n",
    "print('')\n",
    "print('=============================================================')\n",
    "print('')\n",
    "print('GENERAL')\n",
    "print('')\n",
    "print(df_ge)"
   ]
  },
  {
   "cell_type": "code",
   "execution_count": null,
   "metadata": {},
   "outputs": [],
   "source": [
    "#T-test Coding, for Document only"
   ]
  },
  {
   "cell_type": "code",
   "execution_count": null,
   "metadata": {},
   "outputs": [],
   "source": [
    "# import math\n",
    "# from scipy import stats"
   ]
  },
  {
   "cell_type": "code",
   "execution_count": null,
   "metadata": {},
   "outputs": [],
   "source": [
    "# SE_c = math.sqrt(frac_c*(1-frac_c)/len(c))"
   ]
  },
  {
   "cell_type": "code",
   "execution_count": null,
   "metadata": {},
   "outputs": [],
   "source": [
    "# SE_t = math.sqrt(frac_t*(1-frac_t)/len(t))"
   ]
  },
  {
   "cell_type": "code",
   "execution_count": null,
   "metadata": {},
   "outputs": [],
   "source": [
    "# z = (frac_t - frac_c)/math.sqrt(SE_c**2 + SE_t**2)"
   ]
  },
  {
   "cell_type": "code",
   "execution_count": null,
   "metadata": {},
   "outputs": [],
   "source": [
    "# pvalue = stats.t.sf(z,len(c) -2)"
   ]
  },
  {
   "cell_type": "code",
   "execution_count": null,
   "metadata": {},
   "outputs": [],
   "source": [
    "# print('P value: ' + str(pvalue))"
   ]
  },
  {
   "cell_type": "code",
   "execution_count": null,
   "metadata": {},
   "outputs": [],
   "source": [
    "# uc = diff_AB + critical_value * SE\n",
    "# lc = diff_AB - critical_value * SE\n",
    "# critical_value = stats.t.ppf(0.95, n_A -1)"
   ]
  },
  {
   "cell_type": "code",
   "execution_count": null,
   "metadata": {},
   "outputs": [],
   "source": [
    "#Sample size"
   ]
  },
  {
   "cell_type": "code",
   "execution_count": null,
   "metadata": {},
   "outputs": [],
   "source": [
    "# from statsmodels.stats import power as pwr\n",
    "# import statsmodels.api as sm"
   ]
  },
  {
   "cell_type": "code",
   "execution_count": null,
   "metadata": {},
   "outputs": [],
   "source": [
    "# effect = 0.2\n",
    "# power = 1\n",
    "# alpha = 0.05\n",
    "# ratio = 1\n",
    "# analysis = pwr.TTestIndPower()\n",
    "# ssresult = analysis.solve_power(effect_size=effect, power=power, alpha=alpha, nobs1=None, ratio=ratio)\n",
    "# print(ssresult)"
   ]
  },
  {
   "cell_type": "code",
   "execution_count": null,
   "metadata": {},
   "outputs": [],
   "source": [
    "df.head()"
   ]
  },
  {
   "cell_type": "code",
   "execution_count": null,
   "metadata": {},
   "outputs": [],
   "source": [
    "df_rm_sales = all_results_2(df, 'sales_remote', 10000, diff_mean)\n",
    "df_ck_sales = all_results_2(df, 'sales_checkout', 10000, diff_mean)\n",
    "df_ge_sales = all_results_2(df, 'sales_general', 10000, diff_mean)"
   ]
  },
  {
   "cell_type": "code",
   "execution_count": null,
   "metadata": {},
   "outputs": [],
   "source": [
    "print('REMOTE SHOPPING SALES')\n",
    "print('')\n",
    "print(df_rm_sales)\n",
    "print('')\n",
    "print('=============================================================')\n",
    "print('')\n",
    "print('FAST CHECKOUT SALES')\n",
    "print('')\n",
    "print(df_ck_sales)\n",
    "print('')\n",
    "print('=============================================================')\n",
    "print('')\n",
    "print('GENERAL SALES')\n",
    "print('')\n",
    "print(df_ge_sales)"
   ]
  },
  {
   "cell_type": "code",
   "execution_count": null,
   "metadata": {},
   "outputs": [],
   "source": [
    "# Set up probabilities dictionary for new user conversions\n",
    "prob_new = {} \n",
    "prob_new['a1'] = 0.02\n",
    "prob_new['a2'] = 0.018\n",
    "prob_new['a3'] = 0.025\n",
    "prob_new['a4'] = 0.021\n",
    "prob_new['a5'] = 0.019"
   ]
  },
  {
   "cell_type": "code",
   "execution_count": null,
   "metadata": {},
   "outputs": [],
   "source": [
    "df_new = df[df['type']=='New'].reset_index(drop=True)"
   ]
  },
  {
   "cell_type": "code",
   "execution_count": null,
   "metadata": {},
   "outputs": [],
   "source": [
    "# Sample by probabilities dictionary above\n",
    "sng = []\n",
    "for i in df_new.group.unique():\n",
    "    sng_ = np.random.choice([0, 1], size=(int(len(df_new)/num_groups),), p=[1-prob_new[i], prob_new[i]])\n",
    "    sng = np.append(sng,sng_)"
   ]
  },
  {
   "cell_type": "code",
   "execution_count": null,
   "metadata": {},
   "outputs": [],
   "source": [
    "result_sng = np.zeros(len(df_new))"
   ]
  },
  {
   "cell_type": "code",
   "execution_count": null,
   "metadata": {},
   "outputs": [],
   "source": [
    "result_sng[:42125] = sng"
   ]
  },
  {
   "cell_type": "code",
   "execution_count": null,
   "metadata": {},
   "outputs": [],
   "source": [
    "df_new['sng_use'] = result_sng"
   ]
  },
  {
   "cell_type": "code",
   "execution_count": null,
   "metadata": {},
   "outputs": [],
   "source": [
    "df_new_result = all_results_2(df_new, 'sng_use', 10000, diff_frac)"
   ]
  },
  {
   "cell_type": "code",
   "execution_count": null,
   "metadata": {},
   "outputs": [],
   "source": [
    "df_new_result"
   ]
  },
  {
   "cell_type": "markdown",
   "metadata": {},
   "source": [
    "### Multivariate Test"
   ]
  },
  {
   "cell_type": "markdown",
   "metadata": {},
   "source": [
    "After choosing the winner from multiple A/B Test, purpose of multivariate test is to figure out which factor make a winner.  \n",
    "ChiSquare test is chosen since our metrics are categorical (converted/not converted)  \n",
    "**H0: 2 categorical variable are independent**  \n",
    "**H1: 2 categorical variable are dependent**  \n",
    "This test is for 4 treatment groups with 2x2 factors"
   ]
  },
  {
   "cell_type": "code",
   "execution_count": null,
   "metadata": {},
   "outputs": [],
   "source": [
    "# ANOVA test for continuous variable only\n",
    "# from statsmodels.stats import power as pwr\n",
    "# import statsmodels.api as sm\n",
    "\n",
    "# model = sm.formula.ols('remote ~ alg + threshold + alg:threshold', data = df_mp).fit()\n",
    "# aov_table = sm.stats.anova_lm(model, typ=2)\n",
    "# print(aov_table)"
   ]
  },
  {
   "cell_type": "code",
   "execution_count": null,
   "metadata": {},
   "outputs": [],
   "source": [
    "from scipy.stats import chisquare\n",
    "def chisquaretest(df, factor, target, alpha):\n",
    "    \"\"\"Return chi-square test result for 2 categorical variables \n",
    "    if they are independent or not\"\"\"\n",
    "    target_arr = df[target].values\n",
    "    expected = np.array([np.sum(target_arr)/2]*2)\n",
    "    observed = np.squeeze(df.groupby(factor).agg({target:'sum'}).values)\n",
    "    chi_result = chisquare(observed, expected)\n",
    "    print('Observed Frequency: ' + str(observed))\n",
    "    print('Expected Frequency: ' + str(expected))\n",
    "    print('Chi2 Statistic: ' + str(int(chi_result[0])))\n",
    "    print('P Value: ' + str(round(chi_result[1],4)))\n",
    "    if chi_result[1]<alpha:\n",
    "        print('Conclusion: 2 variables are dependent')\n",
    "    else: \n",
    "        print('Conclusion: 2 variables are independent')"
   ]
  },
  {
   "cell_type": "code",
   "execution_count": null,
   "metadata": {},
   "outputs": [],
   "source": [
    "print('Algorithm and Remote')\n",
    "print('==================')\n",
    "chisquaretest(df[df['group']!='a1'], 'alg', 'sng_use', 0.01)\n",
    "print('')\n",
    "print('Threshold and Remote')\n",
    "print('==================')\n",
    "chisquaretest(df[df['group']!='a1'], 'threshold', 'sng_use', 0.01)"
   ]
  }
 ],
 "metadata": {
  "kernelspec": {
   "display_name": "Python 3",
   "language": "python",
   "name": "python3"
  },
  "language_info": {
   "codemirror_mode": {
    "name": "ipython",
    "version": 3
   },
   "file_extension": ".py",
   "mimetype": "text/x-python",
   "name": "python",
   "nbconvert_exporter": "python",
   "pygments_lexer": "ipython3",
   "version": "3.7.4"
  }
 },
 "nbformat": 4,
 "nbformat_minor": 2
}
